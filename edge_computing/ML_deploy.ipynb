{
 "cells": [
  {
   "cell_type": "code",
   "execution_count": 1,
   "id": "0a6d5759-49ba-4467-a48f-e40af7a1e31a",
   "metadata": {},
   "outputs": [],
   "source": [
    "import paho.mqtt.client as mqtt #import the client1\n",
    "import time\n",
    "import matplotlib.pyplot as plt\n",
    "import numpy as np\n",
    "import pandas as pd\n",
    "from tqdm import tqdm"
   ]
  },
  {
   "cell_type": "code",
   "execution_count": 2,
   "id": "59419b49-3e6d-455c-8287-10eb3592a031",
   "metadata": {},
   "outputs": [
    {
     "data": {
      "text/plain": [
       "KNeighborsClassifier(n_neighbors=3)"
      ]
     },
     "execution_count": 2,
     "metadata": {},
     "output_type": "execute_result"
    }
   ],
   "source": [
    "import pickle\n",
    "\n",
    "model = pickle.load(open(\"knn_mpu9050.sav\",\"rb\")) \n",
    "model"
   ]
  },
  {
   "cell_type": "code",
   "execution_count": 3,
   "id": "7cb34893-1452-4b66-8e2f-038812a438fc",
   "metadata": {},
   "outputs": [],
   "source": [
    "from sklearn.preprocessing import StandardScaler"
   ]
  },
  {
   "cell_type": "code",
   "execution_count": 4,
   "id": "4343cdbf-0940-45c7-b33e-f4c2fc1afa0c",
   "metadata": {},
   "outputs": [],
   "source": [
    "from sklearn.externals.joblib import dump, load"
   ]
  },
  {
   "cell_type": "code",
   "execution_count": 5,
   "id": "8e60f7ff-a125-4b29-bb12-5e1473c11b14",
   "metadata": {},
   "outputs": [
    {
     "data": {
      "text/plain": [
       "StandardScaler()"
      ]
     },
     "execution_count": 5,
     "metadata": {},
     "output_type": "execute_result"
    }
   ],
   "source": [
    "sc=load('std_scaler.bin')\n",
    "sc"
   ]
  },
  {
   "cell_type": "code",
   "execution_count": 6,
   "id": "e356fabb-2914-4c92-8bc1-72f18311a22f",
   "metadata": {},
   "outputs": [],
   "source": [
    "#msg=\"(1,1,1,1,1,1,1,1,1)\"\n",
    "\n",
    "#dd = sc.transform(np.asarray([eval(msg)]))\n",
    "#model.predict(dd)"
   ]
  },
  {
   "cell_type": "code",
   "execution_count": 15,
   "id": "815620b2-10a6-415e-8e48-439dfdb97acf",
   "metadata": {},
   "outputs": [],
   "source": [
    "def on_message(client, userdata, message):\n",
    "    global l_mqtt\n",
    "    \n",
    "    msg = str(message.payload.decode(\"utf-8\"))\n",
    "    #print(\"message received \" , eval(msg),type(eval(msg)))\n",
    "    \n",
    "    dfs = sc.transform(np.asarray([eval(msg)]))\n",
    "    print(\"Prediccion: \",model.predict(dfs))"
   ]
  },
  {
   "cell_type": "code",
   "execution_count": 16,
   "id": "9f022fcc-cb16-4823-bace-9cc4182d9871",
   "metadata": {},
   "outputs": [],
   "source": [
    "def run_mqtt():    \n",
    "    broker_address=\"test.mosquitto.org\"\n",
    "    print(\"creating new instance\")\n",
    "\n",
    "    client = mqtt.Client(\"esp32_recv\") #create new instance\n",
    "    client.on_message=on_message #attach function to callback\n",
    "    client.connect(broker_address) #connect to broker\n",
    "\n",
    "    client.loop_start() #start the loop\n",
    "\n",
    "    print(\"Subscribing to topic\",\"modulo/mpu9250/ml\")\n",
    "    client.subscribe(\"modulo/mpu9250/ml\")\n",
    "\n",
    "    #print(\"Publishing message to topic\",\"house/bulbs/bulb1\")\n",
    "    #client.publish(\"house/bulbs/bulb1\",\"OFF\")\n",
    "\n",
    "    #time.sleep(4) # wait\n",
    "    #client.loop_stop() #stop the loop\n",
    "    #client.loop_start()\n",
    "    return client"
   ]
  },
  {
   "cell_type": "code",
   "execution_count": null,
   "id": "33fbb4ce-1750-4dd8-9758-0d1d3d09fa02",
   "metadata": {},
   "outputs": [
    {
     "name": "stdout",
     "output_type": "stream",
     "text": [
      "Prediccion:  [0]\n",
      "Prediccion:  [0]\n",
      "Prediccion:  [1]\n",
      "Prediccion:  [1]\n",
      "Prediccion:  [2]\n",
      "Prediccion:  [2]\n"
     ]
    }
   ],
   "source": [
    "client = run_mqtt()"
   ]
  },
  {
   "cell_type": "code",
   "execution_count": 14,
   "id": "8dd25068-a2e4-43cb-a716-22bdbed630c9",
   "metadata": {},
   "outputs": [],
   "source": [
    "client.loop_stop()\n",
    "\n",
    "#print(l_mqtt)"
   ]
  },
  {
   "cell_type": "code",
   "execution_count": null,
   "id": "51fda372-8ac3-4838-9c4b-889da8d21371",
   "metadata": {},
   "outputs": [],
   "source": []
  }
 ],
 "metadata": {
  "kernelspec": {
   "display_name": "Python 3",
   "language": "python",
   "name": "python3"
  },
  "language_info": {
   "codemirror_mode": {
    "name": "ipython",
    "version": 3
   },
   "file_extension": ".py",
   "mimetype": "text/x-python",
   "name": "python",
   "nbconvert_exporter": "python",
   "pygments_lexer": "ipython3",
   "version": "3.8.10"
  }
 },
 "nbformat": 4,
 "nbformat_minor": 5
}
