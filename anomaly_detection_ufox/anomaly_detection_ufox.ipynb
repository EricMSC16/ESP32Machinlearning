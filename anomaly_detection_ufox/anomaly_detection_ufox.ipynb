{
 "cells": [
  {
   "cell_type": "code",
   "execution_count": 4,
   "id": "df6362b3",
   "metadata": {},
   "outputs": [
    {
     "name": "stdout",
     "output_type": "stream",
     "text": [
      "Requirement already satisfied: tqdm in /home/omar/.local/lib/python3.8/site-packages (4.62.3)\r\n"
     ]
    }
   ],
   "source": [
    "!pip install tqdm"
   ]
  },
  {
   "cell_type": "code",
   "execution_count": 8,
   "id": "3721bbb7",
   "metadata": {
    "scrolled": true
   },
   "outputs": [
    {
     "name": "stdout",
     "output_type": "stream",
     "text": [
      "Collecting ipympl\n",
      "  Downloading ipympl-0.8.8-py2.py3-none-any.whl (507 kB)\n",
      "\u001b[K     |████████████████████████████████| 507 kB 607 kB/s eta 0:00:01\n",
      "\u001b[?25hRequirement already satisfied: matplotlib<4,>=2.0.0 in /usr/lib/python3/dist-packages (from ipympl) (3.1.2)\n",
      "Requirement already satisfied: ipython<9 in /home/omar/.local/lib/python3.8/site-packages (from ipympl) (7.28.0)\n",
      "Requirement already satisfied: ipython-genutils in /home/omar/.local/lib/python3.8/site-packages (from ipympl) (0.2.0)\n",
      "Requirement already satisfied: numpy in /usr/lib/python3/dist-packages (from ipympl) (1.17.4)\n",
      "Requirement already satisfied: traitlets<6 in /home/omar/.local/lib/python3.8/site-packages (from ipympl) (5.1.1)\n",
      "Requirement already satisfied: pillow in /usr/lib/python3/dist-packages (from ipympl) (7.0.0)\n",
      "Requirement already satisfied: ipywidgets<8,>=7.6.0 in /home/omar/.local/lib/python3.8/site-packages (from ipympl) (7.6.5)\n",
      "Requirement already satisfied: decorator in /usr/lib/python3/dist-packages (from ipython<9->ipympl) (4.4.2)\n",
      "Requirement already satisfied: pexpect>4.3; sys_platform != \"win32\" in /usr/lib/python3/dist-packages (from ipython<9->ipympl) (4.6.0)\n",
      "Requirement already satisfied: setuptools>=18.5 in /usr/lib/python3/dist-packages (from ipython<9->ipympl) (45.2.0)\n",
      "Requirement already satisfied: pickleshare in /home/omar/.local/lib/python3.8/site-packages (from ipython<9->ipympl) (0.7.5)\n",
      "Requirement already satisfied: backcall in /home/omar/.local/lib/python3.8/site-packages (from ipython<9->ipympl) (0.2.0)\n",
      "Requirement already satisfied: prompt-toolkit!=3.0.0,!=3.0.1,<3.1.0,>=2.0.0 in /home/omar/.local/lib/python3.8/site-packages (from ipython<9->ipympl) (3.0.21)\n",
      "Requirement already satisfied: matplotlib-inline in /home/omar/.local/lib/python3.8/site-packages (from ipython<9->ipympl) (0.1.3)\n",
      "Requirement already satisfied: pygments in /home/omar/.local/lib/python3.8/site-packages (from ipython<9->ipympl) (2.10.0)\n",
      "Requirement already satisfied: jedi>=0.16 in /home/omar/.local/lib/python3.8/site-packages (from ipython<9->ipympl) (0.18.0)\n",
      "Requirement already satisfied: ipykernel>=4.5.1 in /home/omar/.local/lib/python3.8/site-packages (from ipywidgets<8,>=7.6.0->ipympl) (6.4.2)\n",
      "Requirement already satisfied: nbformat>=4.2.0 in /home/omar/.local/lib/python3.8/site-packages (from ipywidgets<8,>=7.6.0->ipympl) (5.1.3)\n",
      "Requirement already satisfied: jupyterlab-widgets>=1.0.0; python_version >= \"3.6\" in /home/omar/.local/lib/python3.8/site-packages (from ipywidgets<8,>=7.6.0->ipympl) (1.0.2)\n",
      "Requirement already satisfied: widgetsnbextension~=3.5.0 in /home/omar/.local/lib/python3.8/site-packages (from ipywidgets<8,>=7.6.0->ipympl) (3.5.2)\n",
      "Requirement already satisfied: wcwidth in /home/omar/.local/lib/python3.8/site-packages (from prompt-toolkit!=3.0.0,!=3.0.1,<3.1.0,>=2.0.0->ipython<9->ipympl) (0.2.5)\n",
      "Requirement already satisfied: parso<0.9.0,>=0.8.0 in /home/omar/.local/lib/python3.8/site-packages (from jedi>=0.16->ipython<9->ipympl) (0.8.2)\n",
      "Requirement already satisfied: jupyter-client<8.0 in /home/omar/.local/lib/python3.8/site-packages (from ipykernel>=4.5.1->ipywidgets<8,>=7.6.0->ipympl) (7.0.6)\n",
      "Requirement already satisfied: tornado<7.0,>=4.2 in /home/omar/.local/lib/python3.8/site-packages (from ipykernel>=4.5.1->ipywidgets<8,>=7.6.0->ipympl) (6.1)\n",
      "Requirement already satisfied: debugpy<2.0,>=1.0.0 in /home/omar/.local/lib/python3.8/site-packages (from ipykernel>=4.5.1->ipywidgets<8,>=7.6.0->ipympl) (1.5.1)\n",
      "Requirement already satisfied: jsonschema!=2.5.0,>=2.4 in /usr/lib/python3/dist-packages (from nbformat>=4.2.0->ipywidgets<8,>=7.6.0->ipympl) (3.2.0)\n",
      "Requirement already satisfied: jupyter-core in /home/omar/.local/lib/python3.8/site-packages (from nbformat>=4.2.0->ipywidgets<8,>=7.6.0->ipympl) (4.9.1)\n",
      "Requirement already satisfied: notebook>=4.4.1 in /home/omar/.local/lib/python3.8/site-packages (from widgetsnbextension~=3.5.0->ipywidgets<8,>=7.6.0->ipympl) (6.4.5)\n",
      "Requirement already satisfied: nest-asyncio>=1.5 in /home/omar/.local/lib/python3.8/site-packages (from jupyter-client<8.0->ipykernel>=4.5.1->ipywidgets<8,>=7.6.0->ipympl) (1.5.1)\n",
      "Requirement already satisfied: entrypoints in /usr/lib/python3/dist-packages (from jupyter-client<8.0->ipykernel>=4.5.1->ipywidgets<8,>=7.6.0->ipympl) (0.3)\n",
      "Requirement already satisfied: pyzmq>=13 in /home/omar/.local/lib/python3.8/site-packages (from jupyter-client<8.0->ipykernel>=4.5.1->ipywidgets<8,>=7.6.0->ipympl) (22.3.0)\n",
      "Requirement already satisfied: python-dateutil>=2.1 in /usr/lib/python3/dist-packages (from jupyter-client<8.0->ipykernel>=4.5.1->ipywidgets<8,>=7.6.0->ipympl) (2.7.3)\n",
      "Requirement already satisfied: nbconvert in /home/omar/.local/lib/python3.8/site-packages (from notebook>=4.4.1->widgetsnbextension~=3.5.0->ipywidgets<8,>=7.6.0->ipympl) (6.2.0)\n",
      "Requirement already satisfied: terminado>=0.8.3 in /home/omar/.local/lib/python3.8/site-packages (from notebook>=4.4.1->widgetsnbextension~=3.5.0->ipywidgets<8,>=7.6.0->ipympl) (0.12.1)\n",
      "Requirement already satisfied: Send2Trash>=1.5.0 in /usr/lib/python3/dist-packages (from notebook>=4.4.1->widgetsnbextension~=3.5.0->ipywidgets<8,>=7.6.0->ipympl) (1.5.0)\n",
      "Requirement already satisfied: prometheus-client in /home/omar/.local/lib/python3.8/site-packages (from notebook>=4.4.1->widgetsnbextension~=3.5.0->ipywidgets<8,>=7.6.0->ipympl) (0.11.0)\n",
      "Requirement already satisfied: jinja2 in /home/omar/.local/lib/python3.8/site-packages (from notebook>=4.4.1->widgetsnbextension~=3.5.0->ipywidgets<8,>=7.6.0->ipympl) (3.0.2)\n",
      "Requirement already satisfied: argon2-cffi in /home/omar/.local/lib/python3.8/site-packages (from notebook>=4.4.1->widgetsnbextension~=3.5.0->ipywidgets<8,>=7.6.0->ipympl) (21.1.0)\n",
      "Requirement already satisfied: pandocfilters>=1.4.1 in /home/omar/.local/lib/python3.8/site-packages (from nbconvert->notebook>=4.4.1->widgetsnbextension~=3.5.0->ipywidgets<8,>=7.6.0->ipympl) (1.5.0)\n",
      "Requirement already satisfied: defusedxml in /home/omar/.local/lib/python3.8/site-packages (from nbconvert->notebook>=4.4.1->widgetsnbextension~=3.5.0->ipywidgets<8,>=7.6.0->ipympl) (0.7.1)\n",
      "Requirement already satisfied: mistune<2,>=0.8.1 in /home/omar/.local/lib/python3.8/site-packages (from nbconvert->notebook>=4.4.1->widgetsnbextension~=3.5.0->ipywidgets<8,>=7.6.0->ipympl) (0.8.4)\n",
      "Requirement already satisfied: nbclient<0.6.0,>=0.5.0 in /home/omar/.local/lib/python3.8/site-packages (from nbconvert->notebook>=4.4.1->widgetsnbextension~=3.5.0->ipywidgets<8,>=7.6.0->ipympl) (0.5.4)\n",
      "Requirement already satisfied: jupyterlab-pygments in /home/omar/.local/lib/python3.8/site-packages (from nbconvert->notebook>=4.4.1->widgetsnbextension~=3.5.0->ipywidgets<8,>=7.6.0->ipympl) (0.1.2)\n",
      "Requirement already satisfied: bleach in /home/omar/.local/lib/python3.8/site-packages (from nbconvert->notebook>=4.4.1->widgetsnbextension~=3.5.0->ipywidgets<8,>=7.6.0->ipympl) (4.1.0)\n",
      "Requirement already satisfied: testpath in /home/omar/.local/lib/python3.8/site-packages (from nbconvert->notebook>=4.4.1->widgetsnbextension~=3.5.0->ipywidgets<8,>=7.6.0->ipympl) (0.5.0)\n",
      "Requirement already satisfied: ptyprocess; os_name != \"nt\" in /home/omar/.local/lib/python3.8/site-packages (from terminado>=0.8.3->notebook>=4.4.1->widgetsnbextension~=3.5.0->ipywidgets<8,>=7.6.0->ipympl) (0.7.0)\n",
      "Requirement already satisfied: MarkupSafe>=2.0 in /home/omar/.local/lib/python3.8/site-packages (from jinja2->notebook>=4.4.1->widgetsnbextension~=3.5.0->ipywidgets<8,>=7.6.0->ipympl) (2.0.1)\n",
      "Requirement already satisfied: cffi>=1.0.0 in /home/omar/.local/lib/python3.8/site-packages (from argon2-cffi->notebook>=4.4.1->widgetsnbextension~=3.5.0->ipywidgets<8,>=7.6.0->ipympl) (1.15.0)\n",
      "Requirement already satisfied: packaging in /usr/lib/python3/dist-packages (from bleach->nbconvert->notebook>=4.4.1->widgetsnbextension~=3.5.0->ipywidgets<8,>=7.6.0->ipympl) (20.3)\n",
      "Requirement already satisfied: six>=1.9.0 in /usr/lib/python3/dist-packages (from bleach->nbconvert->notebook>=4.4.1->widgetsnbextension~=3.5.0->ipywidgets<8,>=7.6.0->ipympl) (1.14.0)\n",
      "Requirement already satisfied: webencodings in /usr/lib/python3/dist-packages (from bleach->nbconvert->notebook>=4.4.1->widgetsnbextension~=3.5.0->ipywidgets<8,>=7.6.0->ipympl) (0.5.1)\n",
      "Requirement already satisfied: pycparser in /home/omar/.local/lib/python3.8/site-packages (from cffi>=1.0.0->argon2-cffi->notebook>=4.4.1->widgetsnbextension~=3.5.0->ipywidgets<8,>=7.6.0->ipympl) (2.20)\n"
     ]
    },
    {
     "name": "stdout",
     "output_type": "stream",
     "text": [
      "Installing collected packages: ipympl\n",
      "Successfully installed ipympl-0.8.8\n"
     ]
    }
   ],
   "source": [
    "!pip install ipympl"
   ]
  },
  {
   "cell_type": "code",
   "execution_count": 5,
   "id": "9eb24101",
   "metadata": {},
   "outputs": [],
   "source": [
    "import serial\n",
    "import time\n",
    "import numpy as np\n",
    "import matplotlib.pyplot as plt\n",
    "from tqdm import tqdm"
   ]
  },
  {
   "cell_type": "code",
   "execution_count": 21,
   "id": "ee109a41",
   "metadata": {},
   "outputs": [],
   "source": [
    "byte2np = lambda x: np.array(x.decode().replace(\"\\r\\n\",\"\").split(\",\")).astype('f')"
   ]
  },
  {
   "cell_type": "code",
   "execution_count": 83,
   "id": "81f34947",
   "metadata": {
    "scrolled": true
   },
   "outputs": [
    {
     "name": "stderr",
     "output_type": "stream",
     "text": [
      "100%|███████████████████████████████████████| 1000/1000 [00:15<00:00, 65.84it/s]\n"
     ]
    }
   ],
   "source": [
    "%matplotlib widget\n",
    "\n",
    "target = \"ANOM3\"\n",
    "\n",
    "xx=[]\n",
    "yy=[]\n",
    "\n",
    "ser = serial.Serial(\"/dev/ttyACM0\",115200, timeout=1)\n",
    "\n",
    "for i in tqdm(range(1000)):\n",
    "#for i in range(1000):\n",
    "    try:\n",
    "        data = byte2np(ser.readline()) #byte2np = lambda x: np.array(x.decode().replace(\"\\r\\n\",\"\").split(\",\")).astype('i')\n",
    "        #data = ser.readline()\n",
    "        #print(data)\n",
    "    except:\n",
    "        pass\n",
    "    #print(data)\n",
    "    time.sleep(0.001)\n",
    "    \n",
    "    xx.append(data[0:3])\n",
    "    yy.append(data[3:])\n",
    "    \n",
    "#plt.plot(xx)\n",
    "#plt.plot(yy)\n",
    "#plt.grid(True)\n",
    "ser.close()"
   ]
  },
  {
   "cell_type": "code",
   "execution_count": 84,
   "id": "ee7a1db9",
   "metadata": {},
   "outputs": [
    {
     "data": {
      "text/html": [
       "<div>\n",
       "<style scoped>\n",
       "    .dataframe tbody tr th:only-of-type {\n",
       "        vertical-align: middle;\n",
       "    }\n",
       "\n",
       "    .dataframe tbody tr th {\n",
       "        vertical-align: top;\n",
       "    }\n",
       "\n",
       "    .dataframe thead th {\n",
       "        text-align: right;\n",
       "    }\n",
       "</style>\n",
       "<table border=\"1\" class=\"dataframe\">\n",
       "  <thead>\n",
       "    <tr style=\"text-align: right;\">\n",
       "      <th></th>\n",
       "      <th>ax</th>\n",
       "      <th>ay</th>\n",
       "      <th>az</th>\n",
       "      <th>gx</th>\n",
       "      <th>gy</th>\n",
       "      <th>gz</th>\n",
       "      <th>target</th>\n",
       "    </tr>\n",
       "  </thead>\n",
       "  <tbody>\n",
       "    <tr>\n",
       "      <th>0</th>\n",
       "      <td>6.28</td>\n",
       "      <td>-0.86</td>\n",
       "      <td>7.81</td>\n",
       "      <td>0.16</td>\n",
       "      <td>-0.08</td>\n",
       "      <td>-0.20</td>\n",
       "      <td>ANOM3</td>\n",
       "    </tr>\n",
       "    <tr>\n",
       "      <th>1</th>\n",
       "      <td>6.21</td>\n",
       "      <td>-0.49</td>\n",
       "      <td>7.86</td>\n",
       "      <td>0.13</td>\n",
       "      <td>-0.06</td>\n",
       "      <td>-0.24</td>\n",
       "      <td>ANOM3</td>\n",
       "    </tr>\n",
       "    <tr>\n",
       "      <th>2</th>\n",
       "      <td>5.88</td>\n",
       "      <td>-0.57</td>\n",
       "      <td>8.14</td>\n",
       "      <td>0.11</td>\n",
       "      <td>-0.06</td>\n",
       "      <td>-0.22</td>\n",
       "      <td>ANOM3</td>\n",
       "    </tr>\n",
       "    <tr>\n",
       "      <th>3</th>\n",
       "      <td>5.75</td>\n",
       "      <td>-0.97</td>\n",
       "      <td>8.40</td>\n",
       "      <td>0.16</td>\n",
       "      <td>-0.07</td>\n",
       "      <td>-0.17</td>\n",
       "      <td>ANOM3</td>\n",
       "    </tr>\n",
       "    <tr>\n",
       "      <th>4</th>\n",
       "      <td>5.85</td>\n",
       "      <td>-0.79</td>\n",
       "      <td>8.12</td>\n",
       "      <td>0.18</td>\n",
       "      <td>-0.07</td>\n",
       "      <td>-0.16</td>\n",
       "      <td>ANOM3</td>\n",
       "    </tr>\n",
       "  </tbody>\n",
       "</table>\n",
       "</div>"
      ],
      "text/plain": [
       "     ax    ay    az    gx    gy    gz target\n",
       "0  6.28 -0.86  7.81  0.16 -0.08 -0.20  ANOM3\n",
       "1  6.21 -0.49  7.86  0.13 -0.06 -0.24  ANOM3\n",
       "2  5.88 -0.57  8.14  0.11 -0.06 -0.22  ANOM3\n",
       "3  5.75 -0.97  8.40  0.16 -0.07 -0.17  ANOM3\n",
       "4  5.85 -0.79  8.12  0.18 -0.07 -0.16  ANOM3"
      ]
     },
     "execution_count": 84,
     "metadata": {},
     "output_type": "execute_result"
    }
   ],
   "source": [
    "X = np.hstack([xx,yy])\n",
    "\n",
    "df1 = pd.DataFrame(X, columns=('ax','ay','az','gx','gy','gz'))\n",
    "df1['target'] = target\n",
    "df1.head()"
   ]
  },
  {
   "cell_type": "code",
   "execution_count": 85,
   "id": "695f2087",
   "metadata": {},
   "outputs": [],
   "source": [
    "df1.to_csv(target+\".csv\",index=False)"
   ]
  },
  {
   "cell_type": "code",
   "execution_count": null,
   "id": "a35471d1",
   "metadata": {},
   "outputs": [],
   "source": []
  },
  {
   "cell_type": "code",
   "execution_count": null,
   "id": "7a0cf4eb",
   "metadata": {},
   "outputs": [],
   "source": []
  },
  {
   "cell_type": "code",
   "execution_count": 86,
   "id": "55f59660",
   "metadata": {},
   "outputs": [],
   "source": [
    "path = \"/home/omar/Documents/proyectos_tinyml/DATASET.csv\""
   ]
  },
  {
   "cell_type": "code",
   "execution_count": 87,
   "id": "6f9d6976",
   "metadata": {},
   "outputs": [
    {
     "data": {
      "text/html": [
       "<div>\n",
       "<style scoped>\n",
       "    .dataframe tbody tr th:only-of-type {\n",
       "        vertical-align: middle;\n",
       "    }\n",
       "\n",
       "    .dataframe tbody tr th {\n",
       "        vertical-align: top;\n",
       "    }\n",
       "\n",
       "    .dataframe thead th {\n",
       "        text-align: right;\n",
       "    }\n",
       "</style>\n",
       "<table border=\"1\" class=\"dataframe\">\n",
       "  <thead>\n",
       "    <tr style=\"text-align: right;\">\n",
       "      <th></th>\n",
       "      <th>ax</th>\n",
       "      <th>ay</th>\n",
       "      <th>az</th>\n",
       "      <th>gx</th>\n",
       "      <th>gy</th>\n",
       "      <th>gz</th>\n",
       "      <th>target</th>\n",
       "    </tr>\n",
       "  </thead>\n",
       "  <tbody>\n",
       "    <tr>\n",
       "      <th>0</th>\n",
       "      <td>-9.46</td>\n",
       "      <td>-6.50</td>\n",
       "      <td>5.00</td>\n",
       "      <td>0.61</td>\n",
       "      <td>0.43</td>\n",
       "      <td>-0.80</td>\n",
       "      <td>0</td>\n",
       "    </tr>\n",
       "    <tr>\n",
       "      <th>1</th>\n",
       "      <td>5.69</td>\n",
       "      <td>-0.97</td>\n",
       "      <td>8.35</td>\n",
       "      <td>0.26</td>\n",
       "      <td>-0.06</td>\n",
       "      <td>-0.02</td>\n",
       "      <td>0</td>\n",
       "    </tr>\n",
       "    <tr>\n",
       "      <th>2</th>\n",
       "      <td>5.84</td>\n",
       "      <td>-0.08</td>\n",
       "      <td>7.46</td>\n",
       "      <td>0.24</td>\n",
       "      <td>-0.05</td>\n",
       "      <td>-0.02</td>\n",
       "      <td>0</td>\n",
       "    </tr>\n",
       "    <tr>\n",
       "      <th>3</th>\n",
       "      <td>6.16</td>\n",
       "      <td>-0.60</td>\n",
       "      <td>7.30</td>\n",
       "      <td>0.31</td>\n",
       "      <td>-0.08</td>\n",
       "      <td>0.00</td>\n",
       "      <td>0</td>\n",
       "    </tr>\n",
       "    <tr>\n",
       "      <th>4</th>\n",
       "      <td>6.41</td>\n",
       "      <td>-1.58</td>\n",
       "      <td>8.14</td>\n",
       "      <td>0.30</td>\n",
       "      <td>-0.12</td>\n",
       "      <td>0.03</td>\n",
       "      <td>0</td>\n",
       "    </tr>\n",
       "  </tbody>\n",
       "</table>\n",
       "</div>"
      ],
      "text/plain": [
       "     ax    ay    az    gx    gy    gz  target\n",
       "0 -9.46 -6.50  5.00  0.61  0.43 -0.80       0\n",
       "1  5.69 -0.97  8.35  0.26 -0.06 -0.02       0\n",
       "2  5.84 -0.08  7.46  0.24 -0.05 -0.02       0\n",
       "3  6.16 -0.60  7.30  0.31 -0.08  0.00       0\n",
       "4  6.41 -1.58  8.14  0.30 -0.12  0.03       0"
      ]
     },
     "execution_count": 87,
     "metadata": {},
     "output_type": "execute_result"
    }
   ],
   "source": [
    "dataset = pd.read_csv(path)\n",
    "dataset.head()"
   ]
  },
  {
   "cell_type": "code",
   "execution_count": 119,
   "id": "562a7593",
   "metadata": {},
   "outputs": [],
   "source": [
    "X = dataset.iloc[1:,0:-1].astype(\"float\").to_numpy()\n",
    "y = dataset.iloc[:,-1].astype(\"i\").to_numpy()"
   ]
  },
  {
   "cell_type": "code",
   "execution_count": 120,
   "id": "ac714b20",
   "metadata": {},
   "outputs": [
    {
     "data": {
      "text/plain": [
       "array([[ 5.69, -0.97,  8.35,  0.26, -0.06, -0.02],\n",
       "       [ 5.84, -0.08,  7.46,  0.24, -0.05, -0.02],\n",
       "       [ 6.16, -0.6 ,  7.3 ,  0.31, -0.08,  0.  ],\n",
       "       ...,\n",
       "       [ 6.32, -1.59,  7.71,  0.27, -0.11,  0.06],\n",
       "       [ 6.01, -1.58,  7.89,  0.23, -0.09,  0.02],\n",
       "       [ 5.62, -1.6 ,  8.08,  0.18, -0.06,  0.  ]])"
      ]
     },
     "execution_count": 120,
     "metadata": {},
     "output_type": "execute_result"
    }
   ],
   "source": [
    "X"
   ]
  },
  {
   "cell_type": "code",
   "execution_count": 121,
   "id": "8a9dd843",
   "metadata": {},
   "outputs": [
    {
     "data": {
      "text/plain": [
       "array([0, 0, 0, ..., 2, 2, 2], dtype=int32)"
      ]
     },
     "execution_count": 121,
     "metadata": {},
     "output_type": "execute_result"
    }
   ],
   "source": [
    "y"
   ]
  },
  {
   "cell_type": "code",
   "execution_count": 99,
   "id": "5ef9abbc",
   "metadata": {},
   "outputs": [
    {
     "name": "stdout",
     "output_type": "stream",
     "text": [
      "Collecting embedded_window\n",
      "  Downloading embedded_window-0.0.2.tar.gz (2.6 kB)\n",
      "Requirement already satisfied: numpy in /usr/lib/python3/dist-packages (from embedded_window) (1.17.4)\n",
      "Building wheels for collected packages: embedded-window\n",
      "  Building wheel for embedded-window (setup.py) ... \u001b[?25ldone\n",
      "\u001b[?25h  Created wheel for embedded-window: filename=embedded_window-0.0.2-py3-none-any.whl size=3420 sha256=5d91b3c65b524f59d00e13bf14293a97aa09cd7c7671e7121b09c1cae502d2af\n",
      "  Stored in directory: /home/omar/.cache/pip/wheels/60/1d/5e/ab367433820e40c47b560bdcdb7ed1c9a68ef1cc1727ab93bc\n",
      "Successfully built embedded-window\n",
      "Installing collected packages: embedded-window\n",
      "Successfully installed embedded-window-0.0.2\n"
     ]
    }
   ],
   "source": [
    "!pip install embedded_window"
   ]
  },
  {
   "cell_type": "code",
   "execution_count": 122,
   "id": "076d4e14",
   "metadata": {},
   "outputs": [
    {
     "name": "stdout",
     "output_type": "stream",
     "text": [
      "X_windows.shape (478, 52, 6)\n",
      "features.shape (478, 48)\n",
      "y_windows.shape (478,)\n"
     ]
    }
   ],
   "source": [
    "# this goes at the top of the Python script\n",
    "from embedded_window import Window\n",
    "\n",
    "# the rest goes right after the previous block of code\n",
    "# if using a board different than Rp2040 Connect, the sampling rate may be different!\n",
    "SAMPLING_RATE = 104\n",
    "# this is in milliseconds\n",
    "WINDOW_DURATION = 500\n",
    "\n",
    "window = Window(length=SAMPLING_RATE * WINDOW_DURATION // 1000, shift=WINDOW_DURATION // 20)\n",
    "\n",
    "# X_windows holds the input arranged in windows\n",
    "# features holds the extracted features for each window (min/max/mean/std...)\n",
    "# y_windows holds the most frequent label inside each window \n",
    "X_windows, features, y_windows = window.fit_transform(X, y)\n",
    "\n",
    "print('X_windows.shape', X_windows.shape)\n",
    "print('features.shape', features.shape)\n",
    "print('y_windows.shape', y_windows.shape)"
   ]
  },
  {
   "cell_type": "code",
   "execution_count": null,
   "id": "0b4fa0b5",
   "metadata": {},
   "outputs": [],
   "source": []
  },
  {
   "cell_type": "code",
   "execution_count": 134,
   "id": "2f60344b",
   "metadata": {},
   "outputs": [
    {
     "name": "stdout",
     "output_type": "stream",
     "text": [
      "Requirement already satisfied: sklearn in /home/omar/.local/lib/python3.8/site-packages (0.0)\n",
      "Requirement already satisfied: scikit-learn in /home/omar/.local/lib/python3.8/site-packages (from sklearn) (1.0.1)\n",
      "Requirement already satisfied: numpy>=1.14.6 in /usr/lib/python3/dist-packages (from scikit-learn->sklearn) (1.17.4)\n",
      "Requirement already satisfied: threadpoolctl>=2.0.0 in /home/omar/.local/lib/python3.8/site-packages (from scikit-learn->sklearn) (3.0.0)\n",
      "Requirement already satisfied: joblib>=0.11 in /home/omar/.local/lib/python3.8/site-packages (from scikit-learn->sklearn) (1.1.0)\n",
      "Requirement already satisfied: scipy>=1.1.0 in /home/omar/.local/lib/python3.8/site-packages (from scikit-learn->sklearn) (1.7.1)\n"
     ]
    }
   ],
   "source": [
    "!pip install sklearn"
   ]
  },
  {
   "cell_type": "code",
   "execution_count": 132,
   "id": "3e301da9",
   "metadata": {},
   "outputs": [],
   "source": [
    "from sklearn.model_selection import train_test_split\n",
    "from sklearn.ensemble import RandomForestClassifier\n",
    "from sklearn.metrics import plot_confusion_matrix\n",
    "\n",
    "# use half data for training, half for testing\n",
    "X_train, X_test, y_train, y_test = train_test_split(features, y_windows, test_size=0.5, random_state=0)\n",
    "clf = RandomForestClassifier(n_estimators=10, max_depth=10, random_state=0).fit(X_train, y_train)"
   ]
  },
  {
   "cell_type": "code",
   "execution_count": 133,
   "id": "79465a01",
   "metadata": {},
   "outputs": [
    {
     "name": "stderr",
     "output_type": "stream",
     "text": [
      "/home/omar/.local/lib/python3.8/site-packages/sklearn/utils/deprecation.py:87: FutureWarning: Function plot_confusion_matrix is deprecated; Function `plot_confusion_matrix` is deprecated in 1.0 and will be removed in 1.2. Use one of the class methods: ConfusionMatrixDisplay.from_predictions or ConfusionMatrixDisplay.from_estimator.\n",
      "  warnings.warn(msg, category=FutureWarning)\n"
     ]
    },
    {
     "data": {
      "application/vnd.jupyter.widget-view+json": {
       "model_id": "135ba477c06243a3a014c770916c23a5",
       "version_major": 2,
       "version_minor": 0
      },
      "image/png": "[encoded data removed]",
      "text/html": [
       "\n",
       "            <div style=\"display: inline-block;\">\n",
       "                <div class=\"jupyter-widgets widget-label\" style=\"text-align: center;\">\n",
       "                    Figure\n",
       "                </div>\n",
       "                <img src='data:image/png;base64,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' width=640.0/>\n",
       "            </div>\n",
       "        "
      ],
      "text/plain": [
       "Canvas(toolbar=Toolbar(toolitems=[('Home', 'Reset original view', 'home', 'home'), ('Back', 'Back to previous …"
      ]
     },
     "metadata": {},
     "output_type": "display_data"
    }
   ],
   "source": [
    "plot_confusion_matrix(clf, X_test, y_test, normalize=None, display_labels=['idle', 'mov', 'anom'])\n",
    "plt.show()"
   ]
  },
  {
   "cell_type": "code",
   "execution_count": null,
   "id": "aeda3d69",
   "metadata": {},
   "outputs": [],
   "source": []
  },
  {
   "cell_type": "code",
   "execution_count": null,
   "id": "3bb79491",
   "metadata": {},
   "outputs": [],
   "source": []
  },
  {
   "cell_type": "code",
   "execution_count": 137,
   "id": "391b362d",
   "metadata": {},
   "outputs": [
    {
     "name": "stdout",
     "output_type": "stream",
     "text": [
      "Collecting micromlgen\n",
      "  Downloading micromlgen-1.1.27.tar.gz (12 kB)\n",
      "Requirement already satisfied: jinja2 in /home/omar/.local/lib/python3.8/site-packages (from micromlgen) (3.0.2)\n",
      "Requirement already satisfied: MarkupSafe>=2.0 in /home/omar/.local/lib/python3.8/site-packages (from jinja2->micromlgen) (2.0.1)\n",
      "Building wheels for collected packages: micromlgen\n",
      "  Building wheel for micromlgen (setup.py) ... \u001b[?25ldone\n",
      "\u001b[?25h  Created wheel for micromlgen: filename=micromlgen-1.1.27-py3-none-any.whl size=32068 sha256=bc571c0d0d512b62cb22264f64b3940f1a31c865e701c3caff43b5395bdb4bcc\n",
      "  Stored in directory: /home/omar/.cache/pip/wheels/7a/5d/4d/d72d1e8456c5750d61da1aeba4fa6cd389629d9e83ac74a252\n",
      "Successfully built micromlgen\n",
      "Installing collected packages: micromlgen\n",
      "Successfully installed micromlgen-1.1.27\n"
     ]
    }
   ],
   "source": [
    "!pip install micromlgen"
   ]
  },
  {
   "cell_type": "code",
   "execution_count": 139,
   "id": "5349f520",
   "metadata": {},
   "outputs": [],
   "source": [
    "with open(\"Window.h\", \"w\") as file:\n",
    "    file.write(window.port())"
   ]
  },
  {
   "cell_type": "code",
   "execution_count": 140,
   "id": "1eec9568",
   "metadata": {},
   "outputs": [],
   "source": [
    "from micromlgen import port\n",
    "\n",
    "with open(\"Classifier.h\", \"w\") as file:\n",
    "    file.write(port(clf, classname=\"Classifier\", classmap={0: \"idle\", 1: \"mov\", 2: \"anom\"}))"
   ]
  },
  {
   "cell_type": "code",
   "execution_count": null,
   "id": "108ec4fa",
   "metadata": {},
   "outputs": [],
   "source": []
  }
 ],
 "metadata": {
  "kernelspec": {
   "display_name": "Python 3 (ipykernel)",
   "language": "python",
   "name": "python3"
  },
  "language_info": {
   "codemirror_mode": {
    "name": "ipython",
    "version": 3
   },
   "file_extension": ".py",
   "mimetype": "text/x-python",
   "name": "python",
   "nbconvert_exporter": "python",
   "pygments_lexer": "ipython3",
   "version": "3.8.10"
  }
 },
 "nbformat": 4,
 "nbformat_minor": 5
}
